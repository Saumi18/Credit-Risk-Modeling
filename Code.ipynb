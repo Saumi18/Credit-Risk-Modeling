import numpy as np
import pandas as pd
import seaborn as sns
import matplotlib.pyplot as plt

data = pd.DataFrame(pd.read_csv('TrainingData.csv'))
